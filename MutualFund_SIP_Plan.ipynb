{
 "cells": [
  {
   "cell_type": "markdown",
   "metadata": {},
   "source": [
    "# **Mutual Fund SIP Plan**"
   ]
  },
  {
   "cell_type": "code",
   "execution_count": 1,
   "metadata": {},
   "outputs": [],
   "source": [
    "import pandas as pd\n",
    "import numpy as np"
   ]
  },
  {
   "cell_type": "code",
   "execution_count": 196,
   "metadata": {},
   "outputs": [],
   "source": [
    "df= pd.read_csv(\"nifty50.csv\")"
   ]
  },
  {
   "cell_type": "code",
   "execution_count": 198,
   "metadata": {},
   "outputs": [
    {
     "data": {
      "text/html": [
       "<div>\n",
       "<style scoped>\n",
       "    .dataframe tbody tr th:only-of-type {\n",
       "        vertical-align: middle;\n",
       "    }\n",
       "\n",
       "    .dataframe tbody tr th {\n",
       "        vertical-align: top;\n",
       "    }\n",
       "\n",
       "    .dataframe thead th {\n",
       "        text-align: right;\n",
       "    }\n",
       "</style>\n",
       "<table border=\"1\" class=\"dataframe\">\n",
       "  <thead>\n",
       "    <tr style=\"text-align: right;\">\n",
       "      <th></th>\n",
       "      <th>Date</th>\n",
       "      <th>ADANIENT.NS</th>\n",
       "      <th>ADANIPORTS.NS</th>\n",
       "      <th>APOLLOHOSP.NS</th>\n",
       "      <th>ASIANPAINT.NS</th>\n",
       "      <th>AXISBANK.NS</th>\n",
       "      <th>BAJAJ-AUTO.NS</th>\n",
       "      <th>BAJAJFINSV.NS</th>\n",
       "      <th>BAJFINANCE.NS</th>\n",
       "      <th>BEL.NS</th>\n",
       "      <th>...</th>\n",
       "      <th>SUNPHARMA.NS</th>\n",
       "      <th>TATACONSUM.NS</th>\n",
       "      <th>TATAMOTORS.NS</th>\n",
       "      <th>TATASTEEL.NS</th>\n",
       "      <th>TCS.NS</th>\n",
       "      <th>TECHM.NS</th>\n",
       "      <th>TITAN.NS</th>\n",
       "      <th>TRENT.NS</th>\n",
       "      <th>ULTRACEMCO.NS</th>\n",
       "      <th>WIPRO.NS</th>\n",
       "    </tr>\n",
       "  </thead>\n",
       "  <tbody>\n",
       "    <tr>\n",
       "      <th>0</th>\n",
       "      <td>12/23/2024</td>\n",
       "      <td>2338.949951</td>\n",
       "      <td>1191.800049</td>\n",
       "      <td>7254.838867</td>\n",
       "      <td>2279.199951</td>\n",
       "      <td>1079.150024</td>\n",
       "      <td>8768.450195</td>\n",
       "      <td>1563.400024</td>\n",
       "      <td>6866.700195</td>\n",
       "      <td>292.728729</td>\n",
       "      <td>...</td>\n",
       "      <td>1803.729492</td>\n",
       "      <td>902.750000</td>\n",
       "      <td>722.200012</td>\n",
       "      <td>141.710007</td>\n",
       "      <td>4148.414063</td>\n",
       "      <td>1712.400024</td>\n",
       "      <td>3396.949951</td>\n",
       "      <td>6946.000000</td>\n",
       "      <td>11472.59961</td>\n",
       "      <td>301.900971</td>\n",
       "    </tr>\n",
       "    <tr>\n",
       "      <th>1</th>\n",
       "      <td>12/24/2024</td>\n",
       "      <td>2372.449951</td>\n",
       "      <td>1182.199951</td>\n",
       "      <td>7229.774414</td>\n",
       "      <td>2284.000000</td>\n",
       "      <td>1078.900024</td>\n",
       "      <td>8778.049805</td>\n",
       "      <td>1564.550049</td>\n",
       "      <td>6808.200195</td>\n",
       "      <td>290.839203</td>\n",
       "      <td>...</td>\n",
       "      <td>1808.103149</td>\n",
       "      <td>907.299988</td>\n",
       "      <td>736.099976</td>\n",
       "      <td>140.380005</td>\n",
       "      <td>4169.563477</td>\n",
       "      <td>1704.900024</td>\n",
       "      <td>3353.399902</td>\n",
       "      <td>7007.149902</td>\n",
       "      <td>11390.34961</td>\n",
       "      <td>299.351624</td>\n",
       "    </tr>\n",
       "    <tr>\n",
       "      <th>2</th>\n",
       "      <td>12/26/2024</td>\n",
       "      <td>2400.250000</td>\n",
       "      <td>1243.949951</td>\n",
       "      <td>7250.894531</td>\n",
       "      <td>2262.399902</td>\n",
       "      <td>1076.699951</td>\n",
       "      <td>8878.500000</td>\n",
       "      <td>1559.300049</td>\n",
       "      <td>6815.750000</td>\n",
       "      <td>293.574036</td>\n",
       "      <td>...</td>\n",
       "      <td>1830.319214</td>\n",
       "      <td>900.950012</td>\n",
       "      <td>740.799988</td>\n",
       "      <td>140.360001</td>\n",
       "      <td>4159.188477</td>\n",
       "      <td>1698.699951</td>\n",
       "      <td>3323.050049</td>\n",
       "      <td>7063.700195</td>\n",
       "      <td>11460.65039</td>\n",
       "      <td>299.106476</td>\n",
       "    </tr>\n",
       "    <tr>\n",
       "      <th>3</th>\n",
       "      <td>12/27/2024</td>\n",
       "      <td>2409.949951</td>\n",
       "      <td>1230.699951</td>\n",
       "      <td>7236.065430</td>\n",
       "      <td>2271.399902</td>\n",
       "      <td>1077.449951</td>\n",
       "      <td>8928.299805</td>\n",
       "      <td>1579.300049</td>\n",
       "      <td>6907.750000</td>\n",
       "      <td>290.441376</td>\n",
       "      <td>...</td>\n",
       "      <td>1850.100098</td>\n",
       "      <td>907.950012</td>\n",
       "      <td>750.500000</td>\n",
       "      <td>138.910004</td>\n",
       "      <td>4154.948730</td>\n",
       "      <td>1711.650024</td>\n",
       "      <td>3309.199951</td>\n",
       "      <td>7118.299805</td>\n",
       "      <td>11406.54980</td>\n",
       "      <td>303.077606</td>\n",
       "    </tr>\n",
       "    <tr>\n",
       "      <th>4</th>\n",
       "      <td>12/30/2024</td>\n",
       "      <td>2592.350098</td>\n",
       "      <td>1218.500000</td>\n",
       "      <td>7303.919434</td>\n",
       "      <td>2288.250000</td>\n",
       "      <td>1069.949951</td>\n",
       "      <td>8779.900391</td>\n",
       "      <td>1576.699951</td>\n",
       "      <td>6888.250000</td>\n",
       "      <td>283.330750</td>\n",
       "      <td>...</td>\n",
       "      <td>1872.614380</td>\n",
       "      <td>903.500000</td>\n",
       "      <td>733.650024</td>\n",
       "      <td>136.880005</td>\n",
       "      <td>4148.912598</td>\n",
       "      <td>1740.849976</td>\n",
       "      <td>3257.350098</td>\n",
       "      <td>6954.350098</td>\n",
       "      <td>11288.34961</td>\n",
       "      <td>297.782806</td>\n",
       "    </tr>\n",
       "  </tbody>\n",
       "</table>\n",
       "<p>5 rows × 50 columns</p>\n",
       "</div>"
      ],
      "text/plain": [
       "         Date  ADANIENT.NS  ADANIPORTS.NS  APOLLOHOSP.NS  ASIANPAINT.NS  \\\n",
       "0  12/23/2024  2338.949951    1191.800049    7254.838867    2279.199951   \n",
       "1  12/24/2024  2372.449951    1182.199951    7229.774414    2284.000000   \n",
       "2  12/26/2024  2400.250000    1243.949951    7250.894531    2262.399902   \n",
       "3  12/27/2024  2409.949951    1230.699951    7236.065430    2271.399902   \n",
       "4  12/30/2024  2592.350098    1218.500000    7303.919434    2288.250000   \n",
       "\n",
       "   AXISBANK.NS  BAJAJ-AUTO.NS  BAJAJFINSV.NS  BAJFINANCE.NS      BEL.NS  ...  \\\n",
       "0  1079.150024    8768.450195    1563.400024    6866.700195  292.728729  ...   \n",
       "1  1078.900024    8778.049805    1564.550049    6808.200195  290.839203  ...   \n",
       "2  1076.699951    8878.500000    1559.300049    6815.750000  293.574036  ...   \n",
       "3  1077.449951    8928.299805    1579.300049    6907.750000  290.441376  ...   \n",
       "4  1069.949951    8779.900391    1576.699951    6888.250000  283.330750  ...   \n",
       "\n",
       "   SUNPHARMA.NS  TATACONSUM.NS  TATAMOTORS.NS  TATASTEEL.NS       TCS.NS  \\\n",
       "0   1803.729492     902.750000     722.200012    141.710007  4148.414063   \n",
       "1   1808.103149     907.299988     736.099976    140.380005  4169.563477   \n",
       "2   1830.319214     900.950012     740.799988    140.360001  4159.188477   \n",
       "3   1850.100098     907.950012     750.500000    138.910004  4154.948730   \n",
       "4   1872.614380     903.500000     733.650024    136.880005  4148.912598   \n",
       "\n",
       "      TECHM.NS     TITAN.NS     TRENT.NS  ULTRACEMCO.NS    WIPRO.NS  \n",
       "0  1712.400024  3396.949951  6946.000000    11472.59961  301.900971  \n",
       "1  1704.900024  3353.399902  7007.149902    11390.34961  299.351624  \n",
       "2  1698.699951  3323.050049  7063.700195    11460.65039  299.106476  \n",
       "3  1711.650024  3309.199951  7118.299805    11406.54980  303.077606  \n",
       "4  1740.849976  3257.350098  6954.350098    11288.34961  297.782806  \n",
       "\n",
       "[5 rows x 50 columns]"
      ]
     },
     "execution_count": 198,
     "metadata": {},
     "output_type": "execute_result"
    }
   ],
   "source": [
    "df.head()"
   ]
  },
  {
   "cell_type": "code",
   "execution_count": 200,
   "metadata": {},
   "outputs": [],
   "source": [
    "# change the Date format datetime datatype\n",
    "df['Date'] = pd.to_datetime(df['Date'])"
   ]
  },
  {
   "cell_type": "code",
   "execution_count": 202,
   "metadata": {},
   "outputs": [
    {
     "data": {
      "text/html": [
       "<div>\n",
       "<style scoped>\n",
       "    .dataframe tbody tr th:only-of-type {\n",
       "        vertical-align: middle;\n",
       "    }\n",
       "\n",
       "    .dataframe tbody tr th {\n",
       "        vertical-align: top;\n",
       "    }\n",
       "\n",
       "    .dataframe thead th {\n",
       "        text-align: right;\n",
       "    }\n",
       "</style>\n",
       "<table border=\"1\" class=\"dataframe\">\n",
       "  <thead>\n",
       "    <tr style=\"text-align: right;\">\n",
       "      <th></th>\n",
       "      <th>Date</th>\n",
       "      <th>ADANIENT.NS</th>\n",
       "      <th>ADANIPORTS.NS</th>\n",
       "      <th>APOLLOHOSP.NS</th>\n",
       "      <th>ASIANPAINT.NS</th>\n",
       "      <th>AXISBANK.NS</th>\n",
       "      <th>BAJAJ-AUTO.NS</th>\n",
       "      <th>BAJAJFINSV.NS</th>\n",
       "      <th>BAJFINANCE.NS</th>\n",
       "      <th>BEL.NS</th>\n",
       "      <th>...</th>\n",
       "      <th>SUNPHARMA.NS</th>\n",
       "      <th>TATACONSUM.NS</th>\n",
       "      <th>TATAMOTORS.NS</th>\n",
       "      <th>TATASTEEL.NS</th>\n",
       "      <th>TCS.NS</th>\n",
       "      <th>TECHM.NS</th>\n",
       "      <th>TITAN.NS</th>\n",
       "      <th>TRENT.NS</th>\n",
       "      <th>ULTRACEMCO.NS</th>\n",
       "      <th>WIPRO.NS</th>\n",
       "    </tr>\n",
       "  </thead>\n",
       "  <tbody>\n",
       "    <tr>\n",
       "      <th>0</th>\n",
       "      <td>2024-12-23</td>\n",
       "      <td>2338.949951</td>\n",
       "      <td>1191.800049</td>\n",
       "      <td>7254.838867</td>\n",
       "      <td>2279.199951</td>\n",
       "      <td>1079.150024</td>\n",
       "      <td>8768.450195</td>\n",
       "      <td>1563.400024</td>\n",
       "      <td>6866.700195</td>\n",
       "      <td>292.728729</td>\n",
       "      <td>...</td>\n",
       "      <td>1803.729492</td>\n",
       "      <td>902.750000</td>\n",
       "      <td>722.200012</td>\n",
       "      <td>141.710007</td>\n",
       "      <td>4148.414063</td>\n",
       "      <td>1712.400024</td>\n",
       "      <td>3396.949951</td>\n",
       "      <td>6946.000000</td>\n",
       "      <td>11472.59961</td>\n",
       "      <td>301.900971</td>\n",
       "    </tr>\n",
       "    <tr>\n",
       "      <th>1</th>\n",
       "      <td>2024-12-24</td>\n",
       "      <td>2372.449951</td>\n",
       "      <td>1182.199951</td>\n",
       "      <td>7229.774414</td>\n",
       "      <td>2284.000000</td>\n",
       "      <td>1078.900024</td>\n",
       "      <td>8778.049805</td>\n",
       "      <td>1564.550049</td>\n",
       "      <td>6808.200195</td>\n",
       "      <td>290.839203</td>\n",
       "      <td>...</td>\n",
       "      <td>1808.103149</td>\n",
       "      <td>907.299988</td>\n",
       "      <td>736.099976</td>\n",
       "      <td>140.380005</td>\n",
       "      <td>4169.563477</td>\n",
       "      <td>1704.900024</td>\n",
       "      <td>3353.399902</td>\n",
       "      <td>7007.149902</td>\n",
       "      <td>11390.34961</td>\n",
       "      <td>299.351624</td>\n",
       "    </tr>\n",
       "    <tr>\n",
       "      <th>2</th>\n",
       "      <td>2024-12-26</td>\n",
       "      <td>2400.250000</td>\n",
       "      <td>1243.949951</td>\n",
       "      <td>7250.894531</td>\n",
       "      <td>2262.399902</td>\n",
       "      <td>1076.699951</td>\n",
       "      <td>8878.500000</td>\n",
       "      <td>1559.300049</td>\n",
       "      <td>6815.750000</td>\n",
       "      <td>293.574036</td>\n",
       "      <td>...</td>\n",
       "      <td>1830.319214</td>\n",
       "      <td>900.950012</td>\n",
       "      <td>740.799988</td>\n",
       "      <td>140.360001</td>\n",
       "      <td>4159.188477</td>\n",
       "      <td>1698.699951</td>\n",
       "      <td>3323.050049</td>\n",
       "      <td>7063.700195</td>\n",
       "      <td>11460.65039</td>\n",
       "      <td>299.106476</td>\n",
       "    </tr>\n",
       "    <tr>\n",
       "      <th>3</th>\n",
       "      <td>2024-12-27</td>\n",
       "      <td>2409.949951</td>\n",
       "      <td>1230.699951</td>\n",
       "      <td>7236.065430</td>\n",
       "      <td>2271.399902</td>\n",
       "      <td>1077.449951</td>\n",
       "      <td>8928.299805</td>\n",
       "      <td>1579.300049</td>\n",
       "      <td>6907.750000</td>\n",
       "      <td>290.441376</td>\n",
       "      <td>...</td>\n",
       "      <td>1850.100098</td>\n",
       "      <td>907.950012</td>\n",
       "      <td>750.500000</td>\n",
       "      <td>138.910004</td>\n",
       "      <td>4154.948730</td>\n",
       "      <td>1711.650024</td>\n",
       "      <td>3309.199951</td>\n",
       "      <td>7118.299805</td>\n",
       "      <td>11406.54980</td>\n",
       "      <td>303.077606</td>\n",
       "    </tr>\n",
       "    <tr>\n",
       "      <th>4</th>\n",
       "      <td>2024-12-30</td>\n",
       "      <td>2592.350098</td>\n",
       "      <td>1218.500000</td>\n",
       "      <td>7303.919434</td>\n",
       "      <td>2288.250000</td>\n",
       "      <td>1069.949951</td>\n",
       "      <td>8779.900391</td>\n",
       "      <td>1576.699951</td>\n",
       "      <td>6888.250000</td>\n",
       "      <td>283.330750</td>\n",
       "      <td>...</td>\n",
       "      <td>1872.614380</td>\n",
       "      <td>903.500000</td>\n",
       "      <td>733.650024</td>\n",
       "      <td>136.880005</td>\n",
       "      <td>4148.912598</td>\n",
       "      <td>1740.849976</td>\n",
       "      <td>3257.350098</td>\n",
       "      <td>6954.350098</td>\n",
       "      <td>11288.34961</td>\n",
       "      <td>297.782806</td>\n",
       "    </tr>\n",
       "  </tbody>\n",
       "</table>\n",
       "<p>5 rows × 50 columns</p>\n",
       "</div>"
      ],
      "text/plain": [
       "        Date  ADANIENT.NS  ADANIPORTS.NS  APOLLOHOSP.NS  ASIANPAINT.NS  \\\n",
       "0 2024-12-23  2338.949951    1191.800049    7254.838867    2279.199951   \n",
       "1 2024-12-24  2372.449951    1182.199951    7229.774414    2284.000000   \n",
       "2 2024-12-26  2400.250000    1243.949951    7250.894531    2262.399902   \n",
       "3 2024-12-27  2409.949951    1230.699951    7236.065430    2271.399902   \n",
       "4 2024-12-30  2592.350098    1218.500000    7303.919434    2288.250000   \n",
       "\n",
       "   AXISBANK.NS  BAJAJ-AUTO.NS  BAJAJFINSV.NS  BAJFINANCE.NS      BEL.NS  ...  \\\n",
       "0  1079.150024    8768.450195    1563.400024    6866.700195  292.728729  ...   \n",
       "1  1078.900024    8778.049805    1564.550049    6808.200195  290.839203  ...   \n",
       "2  1076.699951    8878.500000    1559.300049    6815.750000  293.574036  ...   \n",
       "3  1077.449951    8928.299805    1579.300049    6907.750000  290.441376  ...   \n",
       "4  1069.949951    8779.900391    1576.699951    6888.250000  283.330750  ...   \n",
       "\n",
       "   SUNPHARMA.NS  TATACONSUM.NS  TATAMOTORS.NS  TATASTEEL.NS       TCS.NS  \\\n",
       "0   1803.729492     902.750000     722.200012    141.710007  4148.414063   \n",
       "1   1808.103149     907.299988     736.099976    140.380005  4169.563477   \n",
       "2   1830.319214     900.950012     740.799988    140.360001  4159.188477   \n",
       "3   1850.100098     907.950012     750.500000    138.910004  4154.948730   \n",
       "4   1872.614380     903.500000     733.650024    136.880005  4148.912598   \n",
       "\n",
       "      TECHM.NS     TITAN.NS     TRENT.NS  ULTRACEMCO.NS    WIPRO.NS  \n",
       "0  1712.400024  3396.949951  6946.000000    11472.59961  301.900971  \n",
       "1  1704.900024  3353.399902  7007.149902    11390.34961  299.351624  \n",
       "2  1698.699951  3323.050049  7063.700195    11460.65039  299.106476  \n",
       "3  1711.650024  3309.199951  7118.299805    11406.54980  303.077606  \n",
       "4  1740.849976  3257.350098  6954.350098    11288.34961  297.782806  \n",
       "\n",
       "[5 rows x 50 columns]"
      ]
     },
     "execution_count": 202,
     "metadata": {},
     "output_type": "execute_result"
    }
   ],
   "source": [
    "df.head()"
   ]
  },
  {
   "cell_type": "code",
   "execution_count": 204,
   "metadata": {},
   "outputs": [
    {
     "data": {
      "text/plain": [
       "Date             0\n",
       "ADANIENT.NS      0\n",
       "ADANIPORTS.NS    0\n",
       "APOLLOHOSP.NS    0\n",
       "ASIANPAINT.NS    0\n",
       "AXISBANK.NS      0\n",
       "BAJAJ-AUTO.NS    0\n",
       "BAJAJFINSV.NS    0\n",
       "BAJFINANCE.NS    0\n",
       "BEL.NS           0\n",
       "BPCL.NS          0\n",
       "BHARTIARTL.NS    0\n",
       "BRITANNIA.NS     0\n",
       "CIPLA.NS         0\n",
       "COALINDIA.NS     0\n",
       "DRREDDY.NS       0\n",
       "EICHERMOT.NS     0\n",
       "GRASIM.NS        0\n",
       "HCLTECH.NS       0\n",
       "HDFCBANK.NS      0\n",
       "HDFCLIFE.NS      0\n",
       "HEROMOTOCO.NS    0\n",
       "HINDALCO.NS      0\n",
       "HINDUNILVR.NS    0\n",
       "ICICIBANK.NS     0\n",
       "INDUSINDBK.NS    0\n",
       "INFY.NS          0\n",
       "ITC.NS           0\n",
       "JSWSTEEL.NS      0\n",
       "KOTAKBANK.NS     0\n",
       "LT.NS            0\n",
       "M&M.NS           0\n",
       "MARUTI.NS        0\n",
       "NESTLEIND.NS     0\n",
       "NTPC.NS          0\n",
       "ONGC.NS          0\n",
       "POWERGRID.NS     0\n",
       "RELIANCE.NS      0\n",
       "SBILIFE.NS       0\n",
       "SBIN.NS          0\n",
       "SUNPHARMA.NS     0\n",
       "TATACONSUM.NS    0\n",
       "TATAMOTORS.NS    0\n",
       "TATASTEEL.NS     0\n",
       "TCS.NS           0\n",
       "TECHM.NS         0\n",
       "TITAN.NS         0\n",
       "TRENT.NS         0\n",
       "ULTRACEMCO.NS    0\n",
       "WIPRO.NS         0\n",
       "dtype: int64"
      ]
     },
     "execution_count": 204,
     "metadata": {},
     "output_type": "execute_result"
    }
   ],
   "source": [
    "# checking for null values\n",
    "df.isnull().sum()"
   ]
  },
  {
   "cell_type": "code",
   "execution_count": 206,
   "metadata": {},
   "outputs": [],
   "source": [
    "#let’s have a look at the stock price trends of all the companies in the data:\n",
    "import plotly.graph_objs as go\n",
    "import plotly.express as px"
   ]
  },
  {
   "cell_type": "code",
   "execution_count": 248,
   "metadata": {},
   "outputs": [],
   "source": [
    "fig = go.Figure()\n",
    "\n",
    "for company in df.columns[1:]:\n",
    "    fig.add_trace(go.Scatter(x=df['Date'], y=df[company],\n",
    "                             mode='lines',\n",
    "                             name=company,\n",
    "                             opacity=0.5))\n",
    "    fig.update_layout(\n",
    "    title='Stock Price Trends of All Indian Companies',\n",
    "    xaxis_title='Date',\n",
    "    yaxis_title='Closing Price (INR)',\n",
    "    xaxis=dict(tickangle=45), \n",
    "    legend=dict(\n",
    "        x=1.05,\n",
    "        y=1,\n",
    "        traceorder=\"normal\",\n",
    "        font=dict(size=10),\n",
    "        orientation=\"v\"\n",
    "    ),\n",
    "    margin=dict(l=0, r=0, t=30, b=0),  \n",
    "    hovermode='x',\n",
    "    template='ggplot2'\n",
    ")\n",
    "\n",
    "fig.show(renderer=\"browser\")"
   ]
  },
  {
   "cell_type": "code",
   "execution_count": 209,
   "metadata": {},
   "outputs": [
    {
     "data": {
      "text/plain": [
       "TRENT.NS         779.516772\n",
       "BAJFINANCE.NS    637.323477\n",
       "MARUTI.NS        614.932563\n",
       "BAJAJ-AUTO.NS    510.288083\n",
       "ULTRACEMCO.NS    447.643396\n",
       "APOLLOHOSP.NS    408.984949\n",
       "TCS.NS           256.172617\n",
       "HEROMOTOCO.NS    216.072835\n",
       "EICHERMOT.NS     195.304300\n",
       "M&M.NS           176.469501\n",
       "dtype: float64"
      ]
     },
     "execution_count": 209,
     "metadata": {},
     "output_type": "execute_result"
    }
   ],
   "source": [
    "# Let’s look at the companies with the highest risks for investing:\n",
    "\n",
    "all_companies = df.columns[1:]\n",
    "\n",
    "volatility_all_companies = df[all_companies].std()\n",
    "\n",
    "volatility_all_companies.sort_values(ascending=False).head(10)\n"
   ]
  },
  {
   "cell_type": "code",
   "execution_count": 210,
   "metadata": {},
   "outputs": [
    {
     "data": {
      "text/plain": [
       "BAJFINANCE.NS    0.437657\n",
       "KOTAKBANK.NS     0.296809\n",
       "BAJAJFINSV.NS    0.286228\n",
       "JSWSTEEL.NS      0.205118\n",
       "EICHERMOT.NS     0.198909\n",
       "TATASTEEL.NS     0.185556\n",
       "SBILIFE.NS       0.168922\n",
       "HINDALCO.NS      0.164073\n",
       "HDFCLIFE.NS      0.154541\n",
       "BHARTIARTL.NS    0.145821\n",
       "dtype: float64"
      ]
     },
     "execution_count": 210,
     "metadata": {},
     "output_type": "execute_result"
    }
   ],
   "source": [
    "# Now, let’s look at the companies with the highest growth rate for investing:\n",
    "\n",
    "\n",
    "growth_all_companies = df[all_companies].pct_change() * 100\n",
    "average_growth_all_companies = growth_all_companies.mean()\n",
    "average_growth_all_companies.sort_values(ascending=False).head(10)"
   ]
  },
  {
   "cell_type": "code",
   "execution_count": 211,
   "metadata": {},
   "outputs": [
    {
     "data": {
      "text/plain": [
       "BAJFINANCE.NS    29.845477\n",
       "KOTAKBANK.NS     19.116511\n",
       "BAJAJFINSV.NS    18.155940\n",
       "JSWSTEEL.NS      12.982228\n",
       "EICHERMOT.NS     11.691287\n",
       "TATASTEEL.NS     10.987221\n",
       "SBILIFE.NS       10.249993\n",
       "HINDALCO.NS       9.650705\n",
       "HDFCLIFE.NS       9.163921\n",
       "BHARTIARTL.NS     8.752916\n",
       "dtype: float64"
      ]
     },
     "execution_count": 211,
     "metadata": {},
     "output_type": "execute_result"
    }
   ],
   "source": [
    "#let’s have a look at the companies with the highest return on investments:\n",
    "initial_prices_all = df[all_companies].iloc[0]\n",
    "final_prices_all = df[all_companies].iloc[-1]\n",
    "roi_values = ((final_prices_all-initial_prices_all)/(initial_prices_all))*100\n",
    "roi_values.sort_values(ascending=False).head(10)"
   ]
  },
  {
   "cell_type": "markdown",
   "metadata": {},
   "source": [
    "# Creating a Mutual Fund Plan Based on High ROI and Low Risk"
   ]
  },
  {
   "cell_type": "markdown",
   "metadata": {},
   "source": [
    "- To create a strategy for selecting companies with high ROI and low risk, we can use a combination of ROI and volatility (standard deviation) metrics. - The goal is to find companies that offer a high return on investment (ROI) but with low volatility to minimize risk.\n",
    "\n",
    "- Here are the steps we can follow for creating a mutual fund plan:\n",
    "\n",
    "- 1. Define ROI and Volatility Thresholds: We will set thresholds for ROI and volatility to select companies that provide good returns with lower risks.\n",
    "\n",
    "- 2. Rank Companies by ROI and Volatility: Rank all companies based on their ROI and volatility scores.\n",
    "\n",
    "- 3. Assign Investment Ratios: Allocate more investment to companies with higher ROI and lower volatility."
   ]
  },
  {
   "cell_type": "code",
   "execution_count": 218,
   "metadata": {},
   "outputs": [
    {
     "data": {
      "text/plain": [
       "JSWSTEEL.NS      12.982228\n",
       "TATASTEEL.NS     10.987221\n",
       "SBILIFE.NS       10.249993\n",
       "HINDALCO.NS       9.650705\n",
       "HDFCLIFE.NS       9.163921\n",
       "BHARTIARTL.NS     8.752916\n",
       "COALINDIA.NS      7.424717\n",
       "TATACONSUM.NS     6.474662\n",
       "NESTLEIND.NS      6.124718\n",
       "NTPC.NS           6.111267\n",
       "dtype: float64"
      ]
     },
     "execution_count": 218,
     "metadata": {},
     "output_type": "execute_result"
    }
   ],
   "source": [
    "#Companies with high ROI and Low volatility\n",
    "\n",
    "roi_threshold = roi_values.median()\n",
    "volatility_threshold = volatility_all_companies.median()\n",
    "\n",
    "selected_companies = roi_values[(roi_values>roi_threshold) & (volatility_all_companies<volatility_threshold)]\n",
    "selected_companies.sort_values(ascending = False).head(10)\n",
    "\n"
   ]
  },
  {
   "cell_type": "code",
   "execution_count": 250,
   "metadata": {},
   "outputs": [
    {
     "name": "stdout",
     "output_type": "stream",
     "text": [
      "JSWSTEEL.NS      (ROI: 12.98%)\n",
      "TATASTEEL.NS     (ROI: 10.99%)\n",
      "SBILIFE.NS       (ROI: 10.25%)\n",
      "HINDALCO.NS       (ROI: 9.65%)\n",
      "HDFCLIFE.NS       (ROI: 9.16%)\n",
      "BHARTIARTL.NS     (ROI: 8.75%)\n",
      "COALINDIA.NS      (ROI: 7.42%)\n",
      "TATACONSUM.NS     (ROI: 6.47%)\n",
      "NESTLEIND.NS      (ROI: 6.12%)\n",
      "NTPC.NS           (ROI: 6.11%)\n",
      "dtype: object\n"
     ]
    }
   ],
   "source": [
    "\n",
    "roi_threshold = roi_values.median()\n",
    "\n",
    "volatility_threshold = volatility_all_companies.median()\n",
    "\n",
    "selected_companies = roi_values[(roi_values>roi_threshold) & (volatility_all_companies<volatility_threshold)]\n",
    "sorted_companies =selected_companies.sort_values(ascending = False).head(10)\n",
    "formatted_selected = sorted_companies.apply(lambda ROI:f\"(ROI: {ROI:.2f}%)\")\n",
    "print(formatted_selected)\n",
    "\n",
    "\n"
   ]
  },
  {
   "cell_type": "markdown",
   "metadata": {},
   "source": [
    "# Inverse Volatility Calculation\n",
    "\n"
   ]
  },
  {
   "cell_type": "markdown",
   "metadata": {},
   "source": [
    "- Inverse volatility is often used in risk-adjusted portfolio allocation. The concept is simple:\n",
    "\n",
    "- Higher volatility means lower weight (because it's riskier).\n",
    "\n",
    "- Lower volatility means higher weight (because it's more stable).\n",
    "\n",
    " "
   ]
  },
  {
   "attachments": {
    "317d78e7-aaa0-43f5-bc2a-af695b3e1c33.png": {
     "image/png": "[encoded data removed]"
    }
   },
   "cell_type": "markdown",
   "metadata": {},
   "source": [
    "![Screenshot 2025-03-22 181225.png](attachment:317d78e7-aaa0-43f5-bc2a-af695b3e1c33.png)"
   ]
  },
  {
   "attachments": {
    "8b33c508-a8a2-4405-b0e1-20de7a8fc2e9.png": {
     "image/png": "[encoded data removed]"
    }
   },
   "cell_type": "markdown",
   "metadata": {},
   "source": [
    "![Screenshot 2025-03-22 183511.png](attachment:8b33c508-a8a2-4405-b0e1-20de7a8fc2e9.png)"
   ]
  },
  {
   "cell_type": "code",
   "execution_count": 281,
   "metadata": {},
   "outputs": [
    {
     "name": "stdout",
     "output_type": "stream",
     "text": [
      "The Investment ratios based on inverse volatility are as follows\n",
      "TATASTEEL.NS    (14.21%)\n",
      "COALINDIA.NS    (11.62%)\n",
      "NTPC.NS         (11.18%)\n",
      "ONGC.NS         (10.19%)\n",
      "BEL.NS           (8.54%)\n",
      "HDFCLIFE.NS      (8.41%)\n",
      "RELIANCE.NS      (4.26%)\n",
      "ICICIBANK.NS     (3.85%)\n",
      "CIPLA.NS         (3.66%)\n",
      "SBILIFE.NS       (3.35%)\n",
      "dtype: object\n"
     ]
    }
   ],
   "source": [
    "selected_volatility = volatility_all_companies[selected_companies.index]\n",
    "inverse_volatility = 1 / selected_volatility\n",
    "\n",
    "investment_ratios = (inverse_volatility / inverse_volatility.sum())*100\n",
    "\n",
    "invested_ratio_sorted = investment_ratios.sort_values(ascending=False).head(10)\n",
    "#print(invested_ratio_sorted)\n",
    "formatted_invested_ratio = invested_ratio_sorted.apply(lambda ROI:f\"({ROI:.2f}%)\")\n",
    "print(\"The Investment ratios based on inverse volatility are as follows\")\n",
    "\n",
    "print(formatted_invested_ratio)"
   ]
  },
  {
   "cell_type": "markdown",
   "metadata": {},
   "source": [
    "# Analyzing  Mutual Fund Plan"
   ]
  },
  {
   "cell_type": "markdown",
   "metadata": {},
   "source": [
    "- We have created a mutual fund plan for long-term investments. Now, let’s analyze and compare our mutual fund plan by comparing it with the high-performing companies in the stock market. "
   ]
  },
  {
   "cell_type": "code",
   "execution_count": 332,
   "metadata": {},
   "outputs": [],
   "source": [
    "selected_sorted=selected_companies.sort_values(ascending=False).head(10)\n",
    "top_growth_companies = average_growth_all_companies.sort_values(ascending=False).head(10)\n",
    "risk_growth_rate_companies = volatility_all_companies[top_growth_companies.index]\n",
    "risk_mutual_fund_companies = volatility_all_companies[selected_sorted.index]\n",
    "\n",
    "fig = go.Figure()\n",
    "\n",
    "fig.add_trace(go.Bar(\n",
    "    y=risk_mutual_fund_companies.index,\n",
    "    x=risk_mutual_fund_companies,\n",
    "    orientation='h',  # Horizontal bar\n",
    "    name='Mutual Fund Companies',\n",
    "    marker=dict(color='blue')\n",
    "))\n",
    "\n",
    "fig.add_trace(go.Bar(\n",
    "    y=risk_growth_rate_companies.index,\n",
    "    x=risk_growth_rate_companies,\n",
    "    orientation='h',  \n",
    "    name='Growth Rate Companies',\n",
    "    marker=dict(color='green'),\n",
    "    opacity=0.7\n",
    "))\n",
    "\n",
    "fig.update_layout(\n",
    "    title='Risk Comparison: Mutual Fund vs Growth Rate Companies',\n",
    "    xaxis_title='Volatility (Standard Deviation)',\n",
    "    yaxis_title='Companies',\n",
    "    #barmode='overlay',  \n",
    "    legend=dict(title='Company Type'),\n",
    "    template='plotly_white'\n",
    ")\n",
    "\n",
    "fig.show(renderer=\"browser\")"
   ]
  },
  {
   "cell_type": "markdown",
   "metadata": {},
   "source": [
    "# Now, let’s compare the ROI of both the groups as well:"
   ]
  },
  {
   "cell_type": "code",
   "execution_count": 334,
   "metadata": {},
   "outputs": [],
   "source": [
    "selected_sorted=selected_companies.sort_values(ascending=False).head(10)\n",
    "expected_roi_mutual_fund = roi_values[selected_sorted.index]\n",
    "\n",
    "expected_roi_growth_companies = roi_values[top_growth_companies.index]\n",
    "\n",
    "fig = go.Figure()\n",
    "\n",
    "fig.add_trace(go.Bar(\n",
    "    y=expected_roi_mutual_fund.index,\n",
    "    x=expected_roi_mutual_fund,\n",
    "    orientation='h',  \n",
    "    name='Mutual Fund Companies',\n",
    "    marker=dict(color='blue')\n",
    "))\n",
    "\n",
    "fig.add_trace(go.Bar(\n",
    "    y=expected_roi_growth_companies.index,\n",
    "    x=expected_roi_growth_companies,\n",
    "    orientation='h',  \n",
    "    name='Growth Rate Companies',\n",
    "    marker=dict(color='green'),\n",
    "    opacity=0.7\n",
    "))\n",
    "\n",
    "fig.update_layout(\n",
    "    title='Expected ROI Comparison: Mutual Fund vs Growth Rate Companies',\n",
    "    xaxis_title='Expected ROI (%)',\n",
    "    yaxis_title='Companies',\n",
    "    #barmode='overlay',  \n",
    "    legend=dict(title='Company Type'),\n",
    "    template='plotly_white'\n",
    ")\n",
    "\n",
    "fig.show(renderer=\"browser\")"
   ]
  },
  {
   "cell_type": "markdown",
   "metadata": {},
   "source": [
    "# Calculating Expected Returns"
   ]
  },
  {
   "cell_type": "markdown",
   "metadata": {},
   "source": [
    "- Now, let’s calculate the expected returns a person will get from our mutual fund if he/she invests ₹5000 every month.\n",
    "\n",
    "- To calculate the expected value a person will accumulate over 1 year, 3 years, 5 years, and 10 years through the mutual fund plan, we can follow these steps:\n",
    "\n",
    "- 1. Assume the person is investing 5000 rupees every month.\n",
    "- 2. Use the expected ROI from the mutual fund companies to simulate the growth over time.\n",
    "- 3. Compute the compounded value of the investments for each period (1y, 3y, 5y, and 10y).\n",
    "- 4. Visualize the accumulated value over these periods."
   ]
  },
  {
   "attachments": {
    "aceeb19a-790c-4079-a7b3-a7419801b359.png": {
     "image/png": "[encoded data removed]"
    }
   },
   "cell_type": "markdown",
   "metadata": {},
   "source": [
    "![Screenshot 2025-03-22 194517.png](attachment:aceeb19a-790c-4079-a7b3-a7419801b359.png)"
   ]
  },
  {
   "cell_type": "markdown",
   "metadata": {},
   "source": [
    ". P = Monthly investment\n",
    ". r = Annual interest rate (ROI in decimal)\n",
    ". n = Compounded monthly\n",
    ". t = Investment period (in years)\n",
    "\n"
   ]
  },
  {
   "cell_type": "code",
   "execution_count": 360,
   "metadata": {},
   "outputs": [
    {
     "data": {
      "application/vnd.plotly.v1+json": {
       "config": {
        "plotlyServerURL": "https://plot.ly"
       },
       "data": [
        {
         "line": {
          "color": "blue"
         },
         "marker": {
          "size": 8
         },
         "mode": "lines+markers",
         "name": "Mutual Fund ",
         "type": "scatter",
         "x": [
          "1 year",
          "3 year",
          "5 year",
          "10 year"
         ],
         "y": [
          62935.66778696573,
          206620.45417637855,
          377819.2705027535,
          963295.1835464402
         ]
        },
        {
         "line": {
          "color": "green"
         },
         "marker": {
          "size": 8
         },
         "mode": "lines+markers",
         "name": "Growth Fund ",
         "type": "scatter",
         "x": [
          "1 year",
          "3 year",
          "5 year",
          "10 year"
         ],
         "y": [
          64771.54964784163,
          224923.38428223453,
          436731.38578695926,
          1315228.8547955374
         ]
        }
       ],
       "layout": {
        "autosize": true,
        "hovermode": "x",
        "template": {
         "data": {
          "bar": [
           {
            "error_x": {
             "color": "#2a3f5f"
            },
            "error_y": {
             "color": "#2a3f5f"
            },
            "marker": {
             "line": {
              "color": "white",
              "width": 0.5
             },
             "pattern": {
              "fillmode": "overlay",
              "size": 10,
              "solidity": 0.2
             }
            },
            "type": "bar"
           }
          ],
          "barpolar": [
           {
            "marker": {
             "line": {
              "color": "white",
              "width": 0.5
             },
             "pattern": {
              "fillmode": "overlay",
              "size": 10,
              "solidity": 0.2
             }
            },
            "type": "barpolar"
           }
          ],
          "carpet": [
           {
            "aaxis": {
             "endlinecolor": "#2a3f5f",
             "gridcolor": "#C8D4E3",
             "linecolor": "#C8D4E3",
             "minorgridcolor": "#C8D4E3",
             "startlinecolor": "#2a3f5f"
            },
            "baxis": {
             "endlinecolor": "#2a3f5f",
             "gridcolor": "#C8D4E3",
             "linecolor": "#C8D4E3",
             "minorgridcolor": "#C8D4E3",
             "startlinecolor": "#2a3f5f"
            },
            "type": "carpet"
           }
          ],
          "choropleth": [
           {
            "colorbar": {
             "outlinewidth": 0,
             "ticks": ""
            },
            "type": "choropleth"
           }
          ],
          "contour": [
           {
            "colorbar": {
             "outlinewidth": 0,
             "ticks": ""
            },
            "colorscale": [
             [
              0,
              "#0d0887"
             ],
             [
              0.1111111111111111,
              "#46039f"
             ],
             [
              0.2222222222222222,
              "#7201a8"
             ],
             [
              0.3333333333333333,
              "#9c179e"
             ],
             [
              0.4444444444444444,
              "#bd3786"
             ],
             [
              0.5555555555555556,
              "#d8576b"
             ],
             [
              0.6666666666666666,
              "#ed7953"
             ],
             [
              0.7777777777777778,
              "#fb9f3a"
             ],
             [
              0.8888888888888888,
              "#fdca26"
             ],
             [
              1,
              "#f0f921"
             ]
            ],
            "type": "contour"
           }
          ],
          "contourcarpet": [
           {
            "colorbar": {
             "outlinewidth": 0,
             "ticks": ""
            },
            "type": "contourcarpet"
           }
          ],
          "heatmap": [
           {
            "colorbar": {
             "outlinewidth": 0,
             "ticks": ""
            },
            "colorscale": [
             [
              0,
              "#0d0887"
             ],
             [
              0.1111111111111111,
              "#46039f"
             ],
             [
              0.2222222222222222,
              "#7201a8"
             ],
             [
              0.3333333333333333,
              "#9c179e"
             ],
             [
              0.4444444444444444,
              "#bd3786"
             ],
             [
              0.5555555555555556,
              "#d8576b"
             ],
             [
              0.6666666666666666,
              "#ed7953"
             ],
             [
              0.7777777777777778,
              "#fb9f3a"
             ],
             [
              0.8888888888888888,
              "#fdca26"
             ],
             [
              1,
              "#f0f921"
             ]
            ],
            "type": "heatmap"
           }
          ],
          "heatmapgl": [
           {
            "colorbar": {
             "outlinewidth": 0,
             "ticks": ""
            },
            "colorscale": [
             [
              0,
              "#0d0887"
             ],
             [
              0.1111111111111111,
              "#46039f"
             ],
             [
              0.2222222222222222,
              "#7201a8"
             ],
             [
              0.3333333333333333,
              "#9c179e"
             ],
             [
              0.4444444444444444,
              "#bd3786"
             ],
             [
              0.5555555555555556,
              "#d8576b"
             ],
             [
              0.6666666666666666,
              "#ed7953"
             ],
             [
              0.7777777777777778,
              "#fb9f3a"
             ],
             [
              0.8888888888888888,
              "#fdca26"
             ],
             [
              1,
              "#f0f921"
             ]
            ],
            "type": "heatmapgl"
           }
          ],
          "histogram": [
           {
            "marker": {
             "pattern": {
              "fillmode": "overlay",
              "size": 10,
              "solidity": 0.2
             }
            },
            "type": "histogram"
           }
          ],
          "histogram2d": [
           {
            "colorbar": {
             "outlinewidth": 0,
             "ticks": ""
            },
            "colorscale": [
             [
              0,
              "#0d0887"
             ],
             [
              0.1111111111111111,
              "#46039f"
             ],
             [
              0.2222222222222222,
              "#7201a8"
             ],
             [
              0.3333333333333333,
              "#9c179e"
             ],
             [
              0.4444444444444444,
              "#bd3786"
             ],
             [
              0.5555555555555556,
              "#d8576b"
             ],
             [
              0.6666666666666666,
              "#ed7953"
             ],
             [
              0.7777777777777778,
              "#fb9f3a"
             ],
             [
              0.8888888888888888,
              "#fdca26"
             ],
             [
              1,
              "#f0f921"
             ]
            ],
            "type": "histogram2d"
           }
          ],
          "histogram2dcontour": [
           {
            "colorbar": {
             "outlinewidth": 0,
             "ticks": ""
            },
            "colorscale": [
             [
              0,
              "#0d0887"
             ],
             [
              0.1111111111111111,
              "#46039f"
             ],
             [
              0.2222222222222222,
              "#7201a8"
             ],
             [
              0.3333333333333333,
              "#9c179e"
             ],
             [
              0.4444444444444444,
              "#bd3786"
             ],
             [
              0.5555555555555556,
              "#d8576b"
             ],
             [
              0.6666666666666666,
              "#ed7953"
             ],
             [
              0.7777777777777778,
              "#fb9f3a"
             ],
             [
              0.8888888888888888,
              "#fdca26"
             ],
             [
              1,
              "#f0f921"
             ]
            ],
            "type": "histogram2dcontour"
           }
          ],
          "mesh3d": [
           {
            "colorbar": {
             "outlinewidth": 0,
             "ticks": ""
            },
            "type": "mesh3d"
           }
          ],
          "parcoords": [
           {
            "line": {
             "colorbar": {
              "outlinewidth": 0,
              "ticks": ""
             }
            },
            "type": "parcoords"
           }
          ],
          "pie": [
           {
            "automargin": true,
            "type": "pie"
           }
          ],
          "scatter": [
           {
            "fillpattern": {
             "fillmode": "overlay",
             "size": 10,
             "solidity": 0.2
            },
            "type": "scatter"
           }
          ],
          "scatter3d": [
           {
            "line": {
             "colorbar": {
              "outlinewidth": 0,
              "ticks": ""
             }
            },
            "marker": {
             "colorbar": {
              "outlinewidth": 0,
              "ticks": ""
             }
            },
            "type": "scatter3d"
           }
          ],
          "scattercarpet": [
           {
            "marker": {
             "colorbar": {
              "outlinewidth": 0,
              "ticks": ""
             }
            },
            "type": "scattercarpet"
           }
          ],
          "scattergeo": [
           {
            "marker": {
             "colorbar": {
              "outlinewidth": 0,
              "ticks": ""
             }
            },
            "type": "scattergeo"
           }
          ],
          "scattergl": [
           {
            "marker": {
             "colorbar": {
              "outlinewidth": 0,
              "ticks": ""
             }
            },
            "type": "scattergl"
           }
          ],
          "scattermapbox": [
           {
            "marker": {
             "colorbar": {
              "outlinewidth": 0,
              "ticks": ""
             }
            },
            "type": "scattermapbox"
           }
          ],
          "scatterpolar": [
           {
            "marker": {
             "colorbar": {
              "outlinewidth": 0,
              "ticks": ""
             }
            },
            "type": "scatterpolar"
           }
          ],
          "scatterpolargl": [
           {
            "marker": {
             "colorbar": {
              "outlinewidth": 0,
              "ticks": ""
             }
            },
            "type": "scatterpolargl"
           }
          ],
          "scatterternary": [
           {
            "marker": {
             "colorbar": {
              "outlinewidth": 0,
              "ticks": ""
             }
            },
            "type": "scatterternary"
           }
          ],
          "surface": [
           {
            "colorbar": {
             "outlinewidth": 0,
             "ticks": ""
            },
            "colorscale": [
             [
              0,
              "#0d0887"
             ],
             [
              0.1111111111111111,
              "#46039f"
             ],
             [
              0.2222222222222222,
              "#7201a8"
             ],
             [
              0.3333333333333333,
              "#9c179e"
             ],
             [
              0.4444444444444444,
              "#bd3786"
             ],
             [
              0.5555555555555556,
              "#d8576b"
             ],
             [
              0.6666666666666666,
              "#ed7953"
             ],
             [
              0.7777777777777778,
              "#fb9f3a"
             ],
             [
              0.8888888888888888,
              "#fdca26"
             ],
             [
              1,
              "#f0f921"
             ]
            ],
            "type": "surface"
           }
          ],
          "table": [
           {
            "cells": {
             "fill": {
              "color": "#EBF0F8"
             },
             "line": {
              "color": "white"
             }
            },
            "header": {
             "fill": {
              "color": "#C8D4E3"
             },
             "line": {
              "color": "white"
             }
            },
            "type": "table"
           }
          ]
         },
         "layout": {
          "annotationdefaults": {
           "arrowcolor": "#2a3f5f",
           "arrowhead": 0,
           "arrowwidth": 1
          },
          "autotypenumbers": "strict",
          "coloraxis": {
           "colorbar": {
            "outlinewidth": 0,
            "ticks": ""
           }
          },
          "colorscale": {
           "diverging": [
            [
             0,
             "#8e0152"
            ],
            [
             0.1,
             "#c51b7d"
            ],
            [
             0.2,
             "#de77ae"
            ],
            [
             0.3,
             "#f1b6da"
            ],
            [
             0.4,
             "#fde0ef"
            ],
            [
             0.5,
             "#f7f7f7"
            ],
            [
             0.6,
             "#e6f5d0"
            ],
            [
             0.7,
             "#b8e186"
            ],
            [
             0.8,
             "#7fbc41"
            ],
            [
             0.9,
             "#4d9221"
            ],
            [
             1,
             "#276419"
            ]
           ],
           "sequential": [
            [
             0,
             "#0d0887"
            ],
            [
             0.1111111111111111,
             "#46039f"
            ],
            [
             0.2222222222222222,
             "#7201a8"
            ],
            [
             0.3333333333333333,
             "#9c179e"
            ],
            [
             0.4444444444444444,
             "#bd3786"
            ],
            [
             0.5555555555555556,
             "#d8576b"
            ],
            [
             0.6666666666666666,
             "#ed7953"
            ],
            [
             0.7777777777777778,
             "#fb9f3a"
            ],
            [
             0.8888888888888888,
             "#fdca26"
            ],
            [
             1,
             "#f0f921"
            ]
           ],
           "sequentialminus": [
            [
             0,
             "#0d0887"
            ],
            [
             0.1111111111111111,
             "#46039f"
            ],
            [
             0.2222222222222222,
             "#7201a8"
            ],
            [
             0.3333333333333333,
             "#9c179e"
            ],
            [
             0.4444444444444444,
             "#bd3786"
            ],
            [
             0.5555555555555556,
             "#d8576b"
            ],
            [
             0.6666666666666666,
             "#ed7953"
            ],
            [
             0.7777777777777778,
             "#fb9f3a"
            ],
            [
             0.8888888888888888,
             "#fdca26"
            ],
            [
             1,
             "#f0f921"
            ]
           ]
          },
          "colorway": [
           "#636efa",
           "#EF553B",
           "#00cc96",
           "#ab63fa",
           "#FFA15A",
           "#19d3f3",
           "#FF6692",
           "#B6E880",
           "#FF97FF",
           "#FECB52"
          ],
          "font": {
           "color": "#2a3f5f"
          },
          "geo": {
           "bgcolor": "white",
           "lakecolor": "white",
           "landcolor": "white",
           "showlakes": true,
           "showland": true,
           "subunitcolor": "#C8D4E3"
          },
          "hoverlabel": {
           "align": "left"
          },
          "hovermode": "closest",
          "mapbox": {
           "style": "light"
          },
          "paper_bgcolor": "white",
          "plot_bgcolor": "white",
          "polar": {
           "angularaxis": {
            "gridcolor": "#EBF0F8",
            "linecolor": "#EBF0F8",
            "ticks": ""
           },
           "bgcolor": "white",
           "radialaxis": {
            "gridcolor": "#EBF0F8",
            "linecolor": "#EBF0F8",
            "ticks": ""
           }
          },
          "scene": {
           "xaxis": {
            "backgroundcolor": "white",
            "gridcolor": "#DFE8F3",
            "gridwidth": 2,
            "linecolor": "#EBF0F8",
            "showbackground": true,
            "ticks": "",
            "zerolinecolor": "#EBF0F8"
           },
           "yaxis": {
            "backgroundcolor": "white",
            "gridcolor": "#DFE8F3",
            "gridwidth": 2,
            "linecolor": "#EBF0F8",
            "showbackground": true,
            "ticks": "",
            "zerolinecolor": "#EBF0F8"
           },
           "zaxis": {
            "backgroundcolor": "white",
            "gridcolor": "#DFE8F3",
            "gridwidth": 2,
            "linecolor": "#EBF0F8",
            "showbackground": true,
            "ticks": "",
            "zerolinecolor": "#EBF0F8"
           }
          },
          "shapedefaults": {
           "line": {
            "color": "#2a3f5f"
           }
          },
          "ternary": {
           "aaxis": {
            "gridcolor": "#DFE8F3",
            "linecolor": "#A2B1C6",
            "ticks": ""
           },
           "baxis": {
            "gridcolor": "#DFE8F3",
            "linecolor": "#A2B1C6",
            "ticks": ""
           },
           "bgcolor": "white",
           "caxis": {
            "gridcolor": "#DFE8F3",
            "linecolor": "#A2B1C6",
            "ticks": ""
           }
          },
          "title": {
           "x": 0.05
          },
          "xaxis": {
           "automargin": true,
           "gridcolor": "#EBF0F8",
           "linecolor": "#EBF0F8",
           "ticks": "",
           "title": {
            "standoff": 15
           },
           "zerolinecolor": "#EBF0F8",
           "zerolinewidth": 2
          },
          "yaxis": {
           "automargin": true,
           "gridcolor": "#EBF0F8",
           "linecolor": "#EBF0F8",
           "ticks": "",
           "title": {
            "standoff": 15
           },
           "zerolinecolor": "#EBF0F8",
           "zerolinewidth": 2
          }
         }
        },
        "title": {
         "text": "Expected Value of Investments of ₹ 5000 Per Month ( Mutual Fund vs Growth Fund)"
        },
        "xaxis": {
         "autorange": true,
         "gridcolor": "lightgrey",
         "range": [
          -0.18835393623942745,
          3.1883539362394275
         ],
         "showgrid": true,
         "title": {
          "text": "Investment Period"
         },
         "type": "category"
        },
        "yaxis": {
         "autorange": true,
         "gridcolor": "lightgrey",
         "range": [
          -52407.125753297456,
          1430571.6483358005
         ],
         "showgrid": true,
         "title": {
          "text": "Future Value (INR)"
         },
         "type": "linear"
        }
       }
      },
      "image/png": "[encoded data removed]",
      "text/html": [
       "<div>                            <div id=\"db22da07-9192-4be4-88bd-8a07c4edd7fe\" class=\"plotly-graph-div\" style=\"height:525px; width:100%;\"></div>            <script type=\"text/javascript\">                require([\"plotly\"], function(Plotly) {                    window.PLOTLYENV=window.PLOTLYENV || {};                                    if (document.getElementById(\"db22da07-9192-4be4-88bd-8a07c4edd7fe\")) {                    Plotly.newPlot(                        \"db22da07-9192-4be4-88bd-8a07c4edd7fe\",                        [{\"line\":{\"color\":\"blue\"},\"marker\":{\"size\":8},\"mode\":\"lines+markers\",\"name\":\"Mutual Fund \",\"x\":[\"1 year\",\"3 year\",\"5 year\",\"10 year\"],\"y\":[62935.66778696573,206620.45417637855,377819.2705027535,963295.1835464402],\"type\":\"scatter\"},{\"line\":{\"color\":\"green\"},\"marker\":{\"size\":8},\"mode\":\"lines+markers\",\"name\":\"Growth Fund \",\"x\":[\"1 year\",\"3 year\",\"5 year\",\"10 year\"],\"y\":[64771.54964784163,224923.38428223453,436731.38578695926,1315228.8547955374],\"type\":\"scatter\"}],                        {\"template\":{\"data\":{\"barpolar\":[{\"marker\":{\"line\":{\"color\":\"white\",\"width\":0.5},\"pattern\":{\"fillmode\":\"overlay\",\"size\":10,\"solidity\":0.2}},\"type\":\"barpolar\"}],\"bar\":[{\"error_x\":{\"color\":\"#2a3f5f\"},\"error_y\":{\"color\":\"#2a3f5f\"},\"marker\":{\"line\":{\"color\":\"white\",\"width\":0.5},\"pattern\":{\"fillmode\":\"overlay\",\"size\":10,\"solidity\":0.2}},\"type\":\"bar\"}],\"carpet\":[{\"aaxis\":{\"endlinecolor\":\"#2a3f5f\",\"gridcolor\":\"#C8D4E3\",\"linecolor\":\"#C8D4E3\",\"minorgridcolor\":\"#C8D4E3\",\"startlinecolor\":\"#2a3f5f\"},\"baxis\":{\"endlinecolor\":\"#2a3f5f\",\"gridcolor\":\"#C8D4E3\",\"linecolor\":\"#C8D4E3\",\"minorgridcolor\":\"#C8D4E3\",\"startlinecolor\":\"#2a3f5f\"},\"type\":\"carpet\"}],\"choropleth\":[{\"colorbar\":{\"outlinewidth\":0,\"ticks\":\"\"},\"type\":\"choropleth\"}],\"contourcarpet\":[{\"colorbar\":{\"outlinewidth\":0,\"ticks\":\"\"},\"type\":\"contourcarpet\"}],\"contour\":[{\"colorbar\":{\"outlinewidth\":0,\"ticks\":\"\"},\"colorscale\":[[0.0,\"#0d0887\"],[0.1111111111111111,\"#46039f\"],[0.2222222222222222,\"#7201a8\"],[0.3333333333333333,\"#9c179e\"],[0.4444444444444444,\"#bd3786\"],[0.5555555555555556,\"#d8576b\"],[0.6666666666666666,\"#ed7953\"],[0.7777777777777778,\"#fb9f3a\"],[0.8888888888888888,\"#fdca26\"],[1.0,\"#f0f921\"]],\"type\":\"contour\"}],\"heatmapgl\":[{\"colorbar\":{\"outlinewidth\":0,\"ticks\":\"\"},\"colorscale\":[[0.0,\"#0d0887\"],[0.1111111111111111,\"#46039f\"],[0.2222222222222222,\"#7201a8\"],[0.3333333333333333,\"#9c179e\"],[0.4444444444444444,\"#bd3786\"],[0.5555555555555556,\"#d8576b\"],[0.6666666666666666,\"#ed7953\"],[0.7777777777777778,\"#fb9f3a\"],[0.8888888888888888,\"#fdca26\"],[1.0,\"#f0f921\"]],\"type\":\"heatmapgl\"}],\"heatmap\":[{\"colorbar\":{\"outlinewidth\":0,\"ticks\":\"\"},\"colorscale\":[[0.0,\"#0d0887\"],[0.1111111111111111,\"#46039f\"],[0.2222222222222222,\"#7201a8\"],[0.3333333333333333,\"#9c179e\"],[0.4444444444444444,\"#bd3786\"],[0.5555555555555556,\"#d8576b\"],[0.6666666666666666,\"#ed7953\"],[0.7777777777777778,\"#fb9f3a\"],[0.8888888888888888,\"#fdca26\"],[1.0,\"#f0f921\"]],\"type\":\"heatmap\"}],\"histogram2dcontour\":[{\"colorbar\":{\"outlinewidth\":0,\"ticks\":\"\"},\"colorscale\":[[0.0,\"#0d0887\"],[0.1111111111111111,\"#46039f\"],[0.2222222222222222,\"#7201a8\"],[0.3333333333333333,\"#9c179e\"],[0.4444444444444444,\"#bd3786\"],[0.5555555555555556,\"#d8576b\"],[0.6666666666666666,\"#ed7953\"],[0.7777777777777778,\"#fb9f3a\"],[0.8888888888888888,\"#fdca26\"],[1.0,\"#f0f921\"]],\"type\":\"histogram2dcontour\"}],\"histogram2d\":[{\"colorbar\":{\"outlinewidth\":0,\"ticks\":\"\"},\"colorscale\":[[0.0,\"#0d0887\"],[0.1111111111111111,\"#46039f\"],[0.2222222222222222,\"#7201a8\"],[0.3333333333333333,\"#9c179e\"],[0.4444444444444444,\"#bd3786\"],[0.5555555555555556,\"#d8576b\"],[0.6666666666666666,\"#ed7953\"],[0.7777777777777778,\"#fb9f3a\"],[0.8888888888888888,\"#fdca26\"],[1.0,\"#f0f921\"]],\"type\":\"histogram2d\"}],\"histogram\":[{\"marker\":{\"pattern\":{\"fillmode\":\"overlay\",\"size\":10,\"solidity\":0.2}},\"type\":\"histogram\"}],\"mesh3d\":[{\"colorbar\":{\"outlinewidth\":0,\"ticks\":\"\"},\"type\":\"mesh3d\"}],\"parcoords\":[{\"line\":{\"colorbar\":{\"outlinewidth\":0,\"ticks\":\"\"}},\"type\":\"parcoords\"}],\"pie\":[{\"automargin\":true,\"type\":\"pie\"}],\"scatter3d\":[{\"line\":{\"colorbar\":{\"outlinewidth\":0,\"ticks\":\"\"}},\"marker\":{\"colorbar\":{\"outlinewidth\":0,\"ticks\":\"\"}},\"type\":\"scatter3d\"}],\"scattercarpet\":[{\"marker\":{\"colorbar\":{\"outlinewidth\":0,\"ticks\":\"\"}},\"type\":\"scattercarpet\"}],\"scattergeo\":[{\"marker\":{\"colorbar\":{\"outlinewidth\":0,\"ticks\":\"\"}},\"type\":\"scattergeo\"}],\"scattergl\":[{\"marker\":{\"colorbar\":{\"outlinewidth\":0,\"ticks\":\"\"}},\"type\":\"scattergl\"}],\"scattermapbox\":[{\"marker\":{\"colorbar\":{\"outlinewidth\":0,\"ticks\":\"\"}},\"type\":\"scattermapbox\"}],\"scatterpolargl\":[{\"marker\":{\"colorbar\":{\"outlinewidth\":0,\"ticks\":\"\"}},\"type\":\"scatterpolargl\"}],\"scatterpolar\":[{\"marker\":{\"colorbar\":{\"outlinewidth\":0,\"ticks\":\"\"}},\"type\":\"scatterpolar\"}],\"scatter\":[{\"fillpattern\":{\"fillmode\":\"overlay\",\"size\":10,\"solidity\":0.2},\"type\":\"scatter\"}],\"scatterternary\":[{\"marker\":{\"colorbar\":{\"outlinewidth\":0,\"ticks\":\"\"}},\"type\":\"scatterternary\"}],\"surface\":[{\"colorbar\":{\"outlinewidth\":0,\"ticks\":\"\"},\"colorscale\":[[0.0,\"#0d0887\"],[0.1111111111111111,\"#46039f\"],[0.2222222222222222,\"#7201a8\"],[0.3333333333333333,\"#9c179e\"],[0.4444444444444444,\"#bd3786\"],[0.5555555555555556,\"#d8576b\"],[0.6666666666666666,\"#ed7953\"],[0.7777777777777778,\"#fb9f3a\"],[0.8888888888888888,\"#fdca26\"],[1.0,\"#f0f921\"]],\"type\":\"surface\"}],\"table\":[{\"cells\":{\"fill\":{\"color\":\"#EBF0F8\"},\"line\":{\"color\":\"white\"}},\"header\":{\"fill\":{\"color\":\"#C8D4E3\"},\"line\":{\"color\":\"white\"}},\"type\":\"table\"}]},\"layout\":{\"annotationdefaults\":{\"arrowcolor\":\"#2a3f5f\",\"arrowhead\":0,\"arrowwidth\":1},\"autotypenumbers\":\"strict\",\"coloraxis\":{\"colorbar\":{\"outlinewidth\":0,\"ticks\":\"\"}},\"colorscale\":{\"diverging\":[[0,\"#8e0152\"],[0.1,\"#c51b7d\"],[0.2,\"#de77ae\"],[0.3,\"#f1b6da\"],[0.4,\"#fde0ef\"],[0.5,\"#f7f7f7\"],[0.6,\"#e6f5d0\"],[0.7,\"#b8e186\"],[0.8,\"#7fbc41\"],[0.9,\"#4d9221\"],[1,\"#276419\"]],\"sequential\":[[0.0,\"#0d0887\"],[0.1111111111111111,\"#46039f\"],[0.2222222222222222,\"#7201a8\"],[0.3333333333333333,\"#9c179e\"],[0.4444444444444444,\"#bd3786\"],[0.5555555555555556,\"#d8576b\"],[0.6666666666666666,\"#ed7953\"],[0.7777777777777778,\"#fb9f3a\"],[0.8888888888888888,\"#fdca26\"],[1.0,\"#f0f921\"]],\"sequentialminus\":[[0.0,\"#0d0887\"],[0.1111111111111111,\"#46039f\"],[0.2222222222222222,\"#7201a8\"],[0.3333333333333333,\"#9c179e\"],[0.4444444444444444,\"#bd3786\"],[0.5555555555555556,\"#d8576b\"],[0.6666666666666666,\"#ed7953\"],[0.7777777777777778,\"#fb9f3a\"],[0.8888888888888888,\"#fdca26\"],[1.0,\"#f0f921\"]]},\"colorway\":[\"#636efa\",\"#EF553B\",\"#00cc96\",\"#ab63fa\",\"#FFA15A\",\"#19d3f3\",\"#FF6692\",\"#B6E880\",\"#FF97FF\",\"#FECB52\"],\"font\":{\"color\":\"#2a3f5f\"},\"geo\":{\"bgcolor\":\"white\",\"lakecolor\":\"white\",\"landcolor\":\"white\",\"showlakes\":true,\"showland\":true,\"subunitcolor\":\"#C8D4E3\"},\"hoverlabel\":{\"align\":\"left\"},\"hovermode\":\"closest\",\"mapbox\":{\"style\":\"light\"},\"paper_bgcolor\":\"white\",\"plot_bgcolor\":\"white\",\"polar\":{\"angularaxis\":{\"gridcolor\":\"#EBF0F8\",\"linecolor\":\"#EBF0F8\",\"ticks\":\"\"},\"bgcolor\":\"white\",\"radialaxis\":{\"gridcolor\":\"#EBF0F8\",\"linecolor\":\"#EBF0F8\",\"ticks\":\"\"}},\"scene\":{\"xaxis\":{\"backgroundcolor\":\"white\",\"gridcolor\":\"#DFE8F3\",\"gridwidth\":2,\"linecolor\":\"#EBF0F8\",\"showbackground\":true,\"ticks\":\"\",\"zerolinecolor\":\"#EBF0F8\"},\"yaxis\":{\"backgroundcolor\":\"white\",\"gridcolor\":\"#DFE8F3\",\"gridwidth\":2,\"linecolor\":\"#EBF0F8\",\"showbackground\":true,\"ticks\":\"\",\"zerolinecolor\":\"#EBF0F8\"},\"zaxis\":{\"backgroundcolor\":\"white\",\"gridcolor\":\"#DFE8F3\",\"gridwidth\":2,\"linecolor\":\"#EBF0F8\",\"showbackground\":true,\"ticks\":\"\",\"zerolinecolor\":\"#EBF0F8\"}},\"shapedefaults\":{\"line\":{\"color\":\"#2a3f5f\"}},\"ternary\":{\"aaxis\":{\"gridcolor\":\"#DFE8F3\",\"linecolor\":\"#A2B1C6\",\"ticks\":\"\"},\"baxis\":{\"gridcolor\":\"#DFE8F3\",\"linecolor\":\"#A2B1C6\",\"ticks\":\"\"},\"bgcolor\":\"white\",\"caxis\":{\"gridcolor\":\"#DFE8F3\",\"linecolor\":\"#A2B1C6\",\"ticks\":\"\"}},\"title\":{\"x\":0.05},\"xaxis\":{\"automargin\":true,\"gridcolor\":\"#EBF0F8\",\"linecolor\":\"#EBF0F8\",\"ticks\":\"\",\"title\":{\"standoff\":15},\"zerolinecolor\":\"#EBF0F8\",\"zerolinewidth\":2},\"yaxis\":{\"automargin\":true,\"gridcolor\":\"#EBF0F8\",\"linecolor\":\"#EBF0F8\",\"ticks\":\"\",\"title\":{\"standoff\":15},\"zerolinecolor\":\"#EBF0F8\",\"zerolinewidth\":2}}},\"xaxis\":{\"title\":{\"text\":\"Investment Period\"},\"showgrid\":true,\"gridcolor\":\"lightgrey\"},\"yaxis\":{\"title\":{\"text\":\"Future Value (INR)\"},\"showgrid\":true,\"gridcolor\":\"lightgrey\"},\"title\":{\"text\":\"Expected Value of Investments of \\u20b9 5000 Per Month ( Mutual Fund vs Growth Fund)\"},\"hovermode\":\"x\"},                        {\"responsive\": true}                    ).then(function(){\n",
       "                            \n",
       "var gd = document.getElementById('db22da07-9192-4be4-88bd-8a07c4edd7fe');\n",
       "var x = new MutationObserver(function (mutations, observer) {{\n",
       "        var display = window.getComputedStyle(gd).display;\n",
       "        if (!display || display === 'none') {{\n",
       "            console.log([gd, 'removed!']);\n",
       "            Plotly.purge(gd);\n",
       "            observer.disconnect();\n",
       "        }}\n",
       "}});\n",
       "\n",
       "// Listen for the removal of the full notebook cells\n",
       "var notebookContainer = gd.closest('#notebook-container');\n",
       "if (notebookContainer) {{\n",
       "    x.observe(notebookContainer, {childList: true});\n",
       "}}\n",
       "\n",
       "// Listen for the clearing of the current output cell\n",
       "var outputEl = gd.closest('.output');\n",
       "if (outputEl) {{\n",
       "    x.observe(outputEl, {childList: true});\n",
       "}}\n",
       "\n",
       "                        })                };                });            </script>        </div>"
      ]
     },
     "metadata": {},
     "output_type": "display_data"
    }
   ],
   "source": [
    "\n",
    "\n",
    "monthly_investment = 5000  # Monthly investment in INR\n",
    "years = [1, 3, 5, 10]  # Investment periods (in years)\n",
    "n = 12  # Number of times interest is compounded per year (monthly)\n",
    "\n",
    "avg_roi_m = expected_roi_mutual_fund.mean() / 100  # Convert to decimal\n",
    "avg_roi_g = expected_roi_growth_companies.mean() / 100\n",
    "\n",
    "def future_value_m(P, r, n, t):\n",
    "    return P * (((1 + r/n)**(n*t) - 1) / (r/n)) * (1 + r/n)\n",
    "\n",
    "future_values_m = [future_value(monthly_investment, avg_roi_m, n, t) for t in years]\n",
    "\n",
    "def future_value_m(P, r, n, t):\n",
    "    return P * (((1 + r/n)**(n*t) - 1) / (r/n)) * (1 + r/n)\n",
    "\n",
    "future_values_g = [future_value(monthly_investment, avg_roi_g, n, t) for t in years]\n",
    "\n",
    "fig = go.Figure()\n",
    "\n",
    "fig.add_trace(go.Scatter(\n",
    "    x=[str(year) + \" year\" for year in years],\n",
    "    y=future_values_m,\n",
    "    mode='lines+markers',\n",
    "    line=dict(color='blue'),\n",
    "    marker=dict(size=8),\n",
    "    name='Mutual Fund '\n",
    "))\n",
    "fig.add_trace(go.Scatter(\n",
    "    x=[str(year) + \" year\" for year in years],\n",
    "    y=future_values_g,\n",
    "    mode='lines+markers',\n",
    "    line=dict(color='green'),\n",
    "    marker=dict(size=8),\n",
    "    name='Growth Fund '\n",
    "))\n",
    "\n",
    "fig.update_layout(\n",
    "    title=\"Expected Value of Investments of ₹ 5000 Per Month ( Mutual Fund vs Growth Fund)\",\n",
    "    xaxis_title=\"Investment Period\",\n",
    "    yaxis_title=\"Future Value (INR)\",\n",
    "    xaxis=dict(showgrid=True, gridcolor='lightgrey'),\n",
    "    yaxis=dict(showgrid=True, gridcolor='lightgrey'),\n",
    "    template=\"plotly_white\",\n",
    "    hovermode='x'\n",
    ")\n",
    "\n",
    "fig.show()"
   ]
  },
  {
   "cell_type": "markdown",
   "metadata": {},
   "source": [
    "**Mutual Fund**\n",
    "\n",
    "- After 1 year, the accumulated value is around ₹62,900, and by 5 years, it grows to over ₹377,000. The long-term benefit is evident, with the investment growing to nearly ₹963,000 over 10 years, which emphasises the value of consistent investing and compounding over time for long-term investors."
   ]
  },
  {
   "cell_type": "markdown",
   "metadata": {},
   "source": [
    "**Growth Fund**\n",
    "\n",
    "- After 1 year, the accumulated value is around ₹64,700, and by 5 years, it grows to over ₹436,000. The long-term benefit is evident, with the investment growing to nearly ₹1315,000 over 10 years, which emphasises the value of consistent investing and compounding over time for long-term investors."
   ]
  },
  {
   "cell_type": "markdown",
   "metadata": {},
   "source": [
    "# **Conclusion**\n",
    "- So, this is how a mutual fund plan is designed by investment companies for long-term investors. Mutual funds are investment plans that pool money from multiple investors to purchase a diversified portfolio of stocks, bonds, and other securities, managed by professional fund managers"
   ]
  },
  {
   "cell_type": "code",
   "execution_count": null,
   "metadata": {},
   "outputs": [],
   "source": []
  }
 ],
 "metadata": {
  "kernelspec": {
   "display_name": "Python 3 (ipykernel)",
   "language": "python",
   "name": "python3"
  },
  "language_info": {
   "codemirror_mode": {
    "name": "ipython",
    "version": 3
   },
   "file_extension": ".py",
   "mimetype": "text/x-python",
   "name": "python",
   "nbconvert_exporter": "python",
   "pygments_lexer": "ipython3",
   "version": "3.12.3"
  }
 },
 "nbformat": 4,
 "nbformat_minor": 4
}
